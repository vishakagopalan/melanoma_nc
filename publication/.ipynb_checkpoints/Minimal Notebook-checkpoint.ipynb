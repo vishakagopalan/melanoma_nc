{
 "cells": [
  {
   "cell_type": "code",
   "execution_count": null,
   "id": "b69d70e7",
   "metadata": {},
   "outputs": [],
   "source": [
    "require(\"IRkernel\")\n",
    "library(Seurat)\n",
    "library(data.table)\n",
    "library(tidyr)\n",
    "library(dplyr)\n",
    "library(ggplot2)\n",
    "library(ggpubr)"
   ]
  },
  {
   "cell_type": "markdown",
   "id": "9f52d650",
   "metadata": {},
   "source": [
    "# Load objects"
   ]
  },
  {
   "cell_type": "markdown",
   "id": "9fa9305d",
   "metadata": {},
   "source": [
    "`E11.5_obj` and `E15.5_obj` are both Seurat objects of the E11.5 and E15.5 melanoblast 10X captures. They\n",
    "have been filtered to remove ambient RNA contamination, dead cells, and doublets. These cellls have been clustered separately and\n",
    "he UMAPs have been computed separately for each object.\n",
    "\n",
    "`merged_E11.5_E15.5_obj` consists of both E11.5 and E15.5 cells in the same object. Note that no UMAP coordinates have been\n",
    "computed for this object so running `DimPlot` will give an error at this point. \n",
    "\n",
    "Both objects have the following meta.data columns --\n",
    "`orig.ident` -- Is either `E11.5` or `E15.5`. \n",
    "\n",
    "`nCount_RNA` -- Total number of reads per cell. Note that this number is usually an integer but is not an integer in these cases because we ran SoupX to subtract out contaminant reads. SoupX subtracts out fractions and hence these values end up not being integers.\n",
    "\n",
    "`nFeature_RNA` -- Number of expressed genes per cell. \n",
    "\n",
    "`percent.mt` -- Percentage of reads from mitochondrial genes in each cell.\n",
    "\n",
    "`time_point` -- The same value as `orig.ident`. \n",
    "\n",
    "`doublet_classification` -- Classification of cells done by DoubletFinder. This column either contains the\n",
    "value `Singlet` or `Doublet`. As all these objects are doublet filtered, the only value you will see for `E11.5_obj`, `E15.5_obj` and `merged_E11.5_E15.5_obj` are `Singlet`. The objects containing doublets have not\n",
    "been provided here.\n",
    "\n",
    "`doublet_pANN` -- This is the probability that a cell is a doublet. Lower values indicate that the cell is less likely to be a doublet. Computed by DoubletFinder. \n",
    "\n",
    "`S.Score`, `G2M.Score`, `Phase` -- Computed using the `CellCycleScoring` function from `Seurat` using the \n",
    "standard cell cycle signature set from the `Seurat` tutorial online.\n",
    "\n",
    "`time_cluster` -- Is of the form `E11.5_[0-9]` or `E15.5_[0-9]`. Denotes the numerical cluster ID returned from running Seurat concatenated to the `time_point` from which the cell was sequenced.\n",
    "\n",
    "`cluster_name` -- Name assigned to each cluster. \n",
    "\n",
    "`lineage` -- Cells are grouped into one of four lineages -- `Mel`,`Mes`,`Neural` or `SCP`. \n",
    "\n",
    "`dgm_marker_list.rds` and `Human_DGM_Markers.rds` are the DGM genes derived from the E11.5 and E15.5 cells. The human DGM list is obtained from the mouse list by mapping mouse to human orthologs using Ensembl `biomaRt`. \n",
    "\n",
    "`GFP_combined_timepoints_clusters.tsv` contains both up- and down-regulated genes (with a log2_FC threshold of 0.25 but no p-value thresholding done) from each cluster in the `merged_E11.5_E15.5_obj`. \n"
   ]
  },
  {
   "cell_type": "code",
   "execution_count": null,
   "id": "ce079855",
   "metadata": {},
   "outputs": [],
   "source": [
    "E11.5_obj <- readRDS(\"../data/E11.5_Final_Object.rds\")\n",
    "E15.5_obj <- readRDS(\"../data/E15.5_Final_Object.rds\")\n",
    "merged_E11.5_E15.5_obj <- readRDS(\"../data/Merged_E11.5_E15.5_Seurat_Object.rds\")\n",
    "E11.5_obj <- SetIdent(E11.5_obj,value=\"cluster_name\")\n",
    "E15.5_obj <- SetIdent(E15.5_obj,value=\"cluster_name\")\n",
    "merged_E11.5_E15.5_obj <- SetIdent(merged_E11.5_E15.5_obj,value=\"cluster_name\")\n",
    "\n",
    "\n",
    "dgm_marker_list <- readRDS(\"DGM_Markers.rds\")\n",
    "embryonic_markers_df <- fread(\"GFP_combined_timepoints_clusters.tsv\")\n",
    "\n",
    "human_dgm_marker_list <- readRDS(\"Human_DGM_Markers.rds\")\n",
    "\n",
    "\n",
    "\n",
    "dgm_to_cluster_name_vec <- c(\"E11.5_0\"=\"SCP.Early\", \"E11.5_2\" = \"NT.Early\",\"E11.5_4\"=\"Mel.Early\", \n",
    "                                 \"E11.5_1\"=\"NPC1\", \"E11.5_5\"=\"Mes.Early\",\n",
    "                             \"E11.5_3\"=\"NPC2\",\"E11.5_6\"=\"Notochord\",\n",
    "                      \"E15.5_1\"=\"SCP.1\", \"E15.5_3\" = \"Mel.\", \"E15.5_0\"=\"SCP.2\", \"E15.5_2\"=\"Immune\",\n",
    "                         \"E15.5_6\"=\"Mes.1\",\"E15.5_5\"=\"Mes.3\", \"E15.5_4\"=\"Mes.2\",\n",
    "                            \"E15.5_7\"=\"Sensory\")\n",
    "\n",
    "\n",
    "dgm_to_lineage_vec <- c(\"E11.5_0\"=\"SCP\", \"E11.5_2\" = \"Neural\",\"E11.5_4\"=\"Mel\", \n",
    "                                 \"E11.5_1\"=\"Neural\", \"E11.5_5\"=\"Mes\",\n",
    "                             \"E11.5_3\"=\"Neural\",\"E11.5_6\"=\"Neural\",\n",
    "                      \"E15.5_1\"=\"SCP\", \"E15.5_3\" = \"Mel\", \"E15.5_0\"=\"SCP\", \"E15.5_2\"=\"Immune\",\n",
    "                             \"E15.5_6\"=\"Mes\",\"E15.5_5\"=\"Mes\", \"E15.5_4\"=\"Mes\",\n",
    "                            \"E15.5_7\"=\"Neural\")\n",
    "\n",
    "dgm_name_to_lineage_vec <- c(\"SCP.Early\"=\"SCP\",\n",
    "                             \"Mel.Early\"=\"Mel\",\"NPC1\"=\"Neural\",\n",
    "                            \"Mes.Early\"=\"Mes\",\"NPC2\"=\"Neural\",\"Notochord\"=\"Neural\",\"SCP.1\"=\"SCP\",\n",
    "                            \"Mel.\"=\"Mel\",\"SCP.2\"=\"SCP\",\n",
    "                             \"Mes.1\"=\"Mes\",\n",
    "                            \"Mes.2\"=\"Mes\",\"Mes.3\"=\"Mes\",\"Sensory\"=\"Neural\")\n",
    "\n"
   ]
  },
  {
   "cell_type": "code",
   "execution_count": null,
   "id": "bb6b9987",
   "metadata": {},
   "outputs": [],
   "source": [
    "DimPlot(E11.5_obj,label=T)    #UMAP of E11.5 cells. Remove label=T to stop plotting cluster names on UMAP plot.\n",
    "DimPlot(E15.5_obj,label=T)    #UMAP of E15.5 cells"
   ]
  },
  {
   "cell_type": "code",
   "execution_count": null,
   "id": "d21bd5d1",
   "metadata": {},
   "outputs": [],
   "source": [
    "options(repr.plot.width=14,repr.plot.height=7)\n",
    "DotPlot(merged_E11.5_E15.5_obj,features=c(\"GFP\",\"Crabp2\",\"Notchx61\",\"Tfap2b\",\"Neurog1\",\"Neurod1\",\"Tubb3\",\n",
    "                                      \"Npm1\",\"Slit1\",\"Isl2\",\"Six1\",\"Ppp1r1c\",\"Sox8\",\"Dlx1\",\"Itga4\",\n",
    "                                    \n",
    "                                      \"Sox10\",\"Erbb3\",\"Pou3f1\",\"Ednrb\",\"Ngfr\",\"Prrx2\",\"Serpine2\",\n",
    "                                      \"Bmp1\",\"Spp1\",\"Sox4\",\n",
    "                                      \"Runx1\",\"Runx2\",\"Runx3\",\"Prrx1\",\"Zeb1\",\n",
    "                                     \"Kdelr3\",\"Kdelr2\",\"Arf4\",\"Twist1\",\"Creb3l1\",\"Mmp9\",\n",
    "                                     \"Col4a1\",\"Col1a1\",\"Col6a1\",\"Dct\",\"Rab38\",\n",
    "                                      \"Mitf\",\"Pmel\",\"Tyr\",\"Rab32\", #Melanocyte markers\n",
    "                                      \"Cx3cr1\",\"Mrc1\", #Macrophage markers\n",
    "                                     \"Foxd3\",\"Sox2\",\"Egr2\",\n",
    "                                     \"Pax3\",\"Kit\",\"S100b\"),\n",
    "        group.by=\"cluster_name\",cluster.idents=F) +\n",
    "scale_colour_gradient2(low = \"blue\", mid = \"white\", high = \"red\") + theme_pubr(base_size=15) + theme(axis.text.x=element_text(angle=-90,hjust=0,vjust=0.5)) + ylab(NULL) + xlab(NULL)\n",
    "options(repr.plot.width=7,repr.plot.height=7)"
   ]
  },
  {
   "cell_type": "code",
   "execution_count": null,
   "id": "75466700",
   "metadata": {},
   "outputs": [],
   "source": [
    "VlnPlot(merged_E11.5_E15.5_obj,features = c(\"GFP\"))\n",
    "\n",
    "VlnPlot(merged_E11.5_E15.5_obj,features = c(\"Sox4\",\"Pmel\",\"S100b\"),ncol=2)\n",
    "\n",
    "options(repr.plot.width=12,repr.plot.height=7)\n",
    "VlnPlot(merged_E11.5_E15.5_obj,features = c(\"Six1\",\"Spp1\",\"Arf4\"),ncol=3)\n",
    "options(repr.plot.width=7,repr.plot.height=7)    #These are the default settings on Jupyter"
   ]
  },
  {
   "cell_type": "code",
   "execution_count": null,
   "id": "7f6b38eb",
   "metadata": {},
   "outputs": [],
   "source": [
    "#Note that since we haven't included the UMAP coordinates for the merged_E11.5_E15.5_obj, we cannot use\n",
    "#FeaturePlot on it\n",
    "FeaturePlot(E11.5_obj,features = c(\"GFP\"))\n",
    "FeaturePlot(E15.5_obj,features = c(\"GFP\"))\n",
    "\n",
    "\n",
    "FeaturePlot(E15.5_obj,features = c(\"Sox4\",\"Pmel\",\"S100b\"),ncol=2)\n",
    "\n",
    "options(repr.plot.width=12,repr.plot.height=5)\n",
    "FeaturePlot(E15.5_obj,features = c(\"Six1\",\"Spp1\",\"Arf4\"),ncol=3)\n",
    "options(repr.plot.width=7,repr.plot.height=7)    #These are the default settings on Jupyter"
   ]
  },
  {
   "cell_type": "code",
   "execution_count": null,
   "id": "4c9d50f4",
   "metadata": {},
   "outputs": [],
   "source": []
  }
 ],
 "metadata": {
  "kernelspec": {
   "display_name": "R 4.1",
   "language": "R",
   "name": "ir41"
  },
  "language_info": {
   "codemirror_mode": "r",
   "file_extension": ".r",
   "mimetype": "text/x-r-source",
   "name": "R",
   "pygments_lexer": "r",
   "version": "4.1.3"
  },
  "toc": {
   "base_numbering": 1,
   "nav_menu": {},
   "number_sections": true,
   "sideBar": true,
   "skip_h1_title": false,
   "title_cell": "Table of Contents",
   "title_sidebar": "Contents",
   "toc_cell": false,
   "toc_position": {},
   "toc_section_display": true,
   "toc_window_display": false
  }
 },
 "nbformat": 4,
 "nbformat_minor": 5
}
